{
 "cells": [
  {
   "cell_type": "code",
   "execution_count": 2,
   "metadata": {},
   "outputs": [],
   "source": [
    "# set up environment by importing all necessary libraries.\n",
    "\n",
    "# Matplotlib forms basis for visualization in Python\n",
    "import matplotlib.pyplot as plt\n",
    "\n",
    "import seaborn as sns\n",
    "\n",
    "import pandas as pd"
   ]
  },
  {
   "cell_type": "code",
   "execution_count": 3,
   "metadata": {},
   "outputs": [
    {
     "name": "stdout",
     "output_type": "stream",
     "text": [
      "(16291, 11)\n",
      "(6825, 16)\n"
     ]
    }
   ],
   "source": [
    "# load dataset and drop N/A\n",
    "df = pd.read_csv('./data/vgsales.csv').dropna()\n",
    "print(df.shape)\n",
    "df_rating = pd.read_csv('./data/Video_Games_Sales_as_at_22_Dec_2016.csv').dropna()\n",
    "print(df_rating.shape)"
   ]
  },
  {
   "cell_type": "code",
   "execution_count": 4,
   "metadata": {},
   "outputs": [
    {
     "name": "stdout",
     "output_type": "stream",
     "text": [
      "<class 'pandas.core.frame.DataFrame'>\n",
      "Int64Index: 16291 entries, 0 to 16597\n",
      "Data columns (total 11 columns):\n",
      "Rank            16291 non-null int64\n",
      "Name            16291 non-null object\n",
      "Platform        16291 non-null object\n",
      "Year            16291 non-null float64\n",
      "Genre           16291 non-null object\n",
      "Publisher       16291 non-null object\n",
      "NA_Sales        16291 non-null float64\n",
      "EU_Sales        16291 non-null float64\n",
      "JP_Sales        16291 non-null float64\n",
      "Other_Sales     16291 non-null float64\n",
      "Global_Sales    16291 non-null float64\n",
      "dtypes: float64(6), int64(1), object(4)\n",
      "memory usage: 1.5+ MB\n",
      "<class 'pandas.core.frame.DataFrame'>\n",
      "Int64Index: 6825 entries, 0 to 16706\n",
      "Data columns (total 16 columns):\n",
      "Name               6825 non-null object\n",
      "Platform           6825 non-null object\n",
      "Year_of_Release    6825 non-null float64\n",
      "Genre              6825 non-null object\n",
      "Publisher          6825 non-null object\n",
      "NA_Sales           6825 non-null float64\n",
      "EU_Sales           6825 non-null float64\n",
      "JP_Sales           6825 non-null float64\n",
      "Other_Sales        6825 non-null float64\n",
      "Global_Sales       6825 non-null float64\n",
      "Critic_Score       6825 non-null float64\n",
      "Critic_Count       6825 non-null float64\n",
      "User_Score         6825 non-null object\n",
      "User_Count         6825 non-null float64\n",
      "Developer          6825 non-null object\n",
      "Rating             6825 non-null object\n",
      "dtypes: float64(9), object(7)\n",
      "memory usage: 906.4+ KB\n"
     ]
    }
   ],
   "source": [
    "df.info()\n",
    "df_rating.info()"
   ]
  },
  {
   "cell_type": "code",
   "execution_count": null,
   "metadata": {},
   "outputs": [],
   "source": []
  }
 ],
 "metadata": {
  "kernelspec": {
   "display_name": "Python 3",
   "language": "python",
   "name": "python3"
  },
  "language_info": {
   "codemirror_mode": {
    "name": "ipython",
    "version": 3
   },
   "file_extension": ".py",
   "mimetype": "text/x-python",
   "name": "python",
   "nbconvert_exporter": "python",
   "pygments_lexer": "ipython3",
   "version": "3.6.5"
  }
 },
 "nbformat": 4,
 "nbformat_minor": 2
}
